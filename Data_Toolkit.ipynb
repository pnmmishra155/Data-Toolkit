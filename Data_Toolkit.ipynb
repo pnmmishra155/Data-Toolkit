{
  "nbformat": 4,
  "nbformat_minor": 0,
  "metadata": {
    "colab": {
      "provenance": []
    },
    "kernelspec": {
      "name": "python3",
      "display_name": "Python 3"
    },
    "language_info": {
      "name": "python"
    }
  },
  "cells": [
    {
      "cell_type": "markdown",
      "source": [
        "## 1. What is NumPy, and why is it widely used in Python?\n",
        "- NumPy is a Python library for fast numerical computing.\n",
        "It provides multidimensional arrays and mathematical functions to perform operations efficiently.\n",
        "It is widely used because it is fast, memory-efficient, easy to use, and integrates well with other data science libraries\n",
        "\n",
        "example:\n",
        "\n",
        "    import numpy as np\n",
        "    arr = np.array([1, 2, 3, 4])\n",
        "    print(arr * 2)      # [2 4 6 8]\n",
        "    print(np.mean(arr)) # 2.5"
      ],
      "metadata": {
        "id": "DbNBVND6LsE9"
      }
    },
    {
      "cell_type": "markdown",
      "source": [
        "## 2.How does broadcasting work in NumPy?\n",
        "- Broadcasting in NumPy allows arrays of different shapes to be used together in arithmetic operations by automatically expanding the smaller array’s dimensions without making explicit copies of data.\n",
        "\n",
        "Instead of matching shapes exactly, NumPy automatically “stretches” the smaller array along missing dimensions so the operation can be done element-wise.\n",
        "\n",
        "- **ways in which broadcasting work**\n",
        "  - Compare shapes from right to left (last dimension first).\n",
        "  - Dimensions are compatible if:\n",
        "  - They are equal, or One of them is 1 (NumPy stretches it).\n",
        "  - If dimensions are not compatible, broadcasting raises an error.\n",
        "\n",
        "example :    \n",
        "\n",
        "import numpy as np\n",
        "\n",
        "    a = np.array([1, 2, 3])  # shape (3,)\n",
        "    b = 5                    # shape () → scalar\n",
        "\n",
        "    result = a + b     output:[6 7 8]\n",
        "    print(result)"
      ],
      "metadata": {
        "id": "dqUWefn-Lr6x"
      }
    },
    {
      "cell_type": "markdown",
      "source": [
        "## 3. What is a Pandas DataFrame?\n",
        "- A Pandas DataFrame is a 2D table-like data structure in Python with labeled rows and columns, used to store and manipulate data easily.\n",
        "\n",
        "example:\n",
        "\n",
        "    import pandas as pd\n",
        "    df = pd.DataFrame({'Name': ['A', 'B'], 'Age': [25, 30]})\n",
        "    print(df)"
      ],
      "metadata": {
        "id": "0M50UqRQLr3Q"
      }
    },
    {
      "cell_type": "markdown",
      "source": [
        "## 4. Explain the use of the groupby() method in Pandas.\n",
        "-  The groupby() method in Pandas is a powerful tool for grouping data based on one or more columns and then performing operations (like sum, mean, count, max, etc.) on each group separately.\n",
        "\n",
        "**It works in three steps:**\n",
        "\n",
        "1. Split – Divide the DataFrame into groups based on the values in one or more columns.\n",
        "2. Apply – Apply a function (sum, mean, count, custom function) to each group.\n",
        "3. Combine – Merge the results back into a new DataFrame or Series.\n",
        "\n",
        "example:\n",
        "\n",
        "    import pandas as pd\n",
        "\n",
        "    data = {\n",
        "        'City': ['A', 'A', 'B', 'B', 'C'],\n",
        "        'Sales': [100, 150, 200, 250, 300],\n",
        "        'Profit': [10, 15, 20, 25, 30]\n",
        "    }\n",
        "\n",
        "    df = pd.DataFrame(data)\n",
        "\n",
        "    result = df.groupby('City')[['Sales', 'Profit']].sum()\n",
        "    print(result)\n",
        "\n",
        "    Output:\n",
        "            Sales  Profit\n",
        "    City               \n",
        "    A       250      25\n",
        "    B       450      45\n",
        "    C       300      30"
      ],
      "metadata": {
        "id": "n34TKhcTLrnH"
      }
    },
    {
      "cell_type": "markdown",
      "source": [
        "## 5. Why is Seaborn preferred for statistical visualizations?\n",
        "- Seaborn is preferred for statistical visualizations because it simplifies the creation of complex plots and makes them visually appealing by default.\n",
        "It provides high-level functions to plot data directly from Pandas DataFrames and can automatically compute and display statistical summaries such as averages, distributions, and relationships between variables.\n",
        "\n",
        "In short: It’s easy, attractive, and statistically informative compared to raw Matplotlib."
      ],
      "metadata": {
        "id": "AiLiB49cOeWg"
      }
    },
    {
      "cell_type": "markdown",
      "source": [
        "## 6. What are the differences between NumPy arrays and Python lists?\n",
        "- differences between NumPy arrays and Python lists separately:\n",
        "\n",
        "1. **Data type –** NumPy arrays store elements of the same data type, while Python lists can store elements of different data types.\n",
        "\n",
        "2. **Performance –** NumPy arrays are faster because they are implemented in C; Python lists are slower for large datasets.\n",
        "\n",
        "3. **Memory usage –** NumPy arrays use less memory; Python lists use more memory.\n",
        "\n",
        "4. **Operations –** NumPy supports vectorized operations (no loops needed); Python lists require explicit loops.\n",
        "\n",
        "5. **Functionality –** NumPy has many built-in mathematical and statistical functions; Python lists have limited math support.\n",
        "\n",
        "6. **Dimensions –** NumPy can handle multi-dimensional data (2D, 3D, etc.); Python lists are mostly 1D (nested lists for more dimensions)"
      ],
      "metadata": {
        "id": "EbsJ6bujOeZC"
      }
    },
    {
      "cell_type": "markdown",
      "source": [
        "##7. What is a heatmap, and when should it be used?\n",
        "- A heatmap is a data visualization that uses color to represent the values in a matrix or table.\n",
        "It makes it easy to spot patterns, trends, and correlations in data.\n",
        "\n",
        "**When to use a heatmap:**\n",
        "\n",
        "➡ To visualize correlations between variables.\n",
        "\n",
        "➡ To show intensity or magnitude across two dimensions.\n",
        "\n",
        "➡ To quickly identify highs, lows, and clusters in data\n",
        "\n",
        "example:\n",
        "\n",
        "    import seaborn as sns\n",
        "    import pandas as pd\n",
        "\n",
        "    df = pd.DataFrame({\n",
        "        'A': [1, 2, 3, 4],\n",
        "        'B': [4, 3, 2, 1],\n",
        "        'C': [5, 6, 7, 8]\n",
        "    })\n",
        "\n",
        "    sns.heatmap(df.corr(), annot=True, cmap='coolwarm')"
      ],
      "metadata": {
        "id": "lQ33icm1Oebp"
      }
    },
    {
      "cell_type": "markdown",
      "source": [
        "##8. What does the term “vectorized operation” mean in NumPy?\n",
        "- A vectorized operation is when you apply a mathematical or logical operation to an entire NumPy array in one go, instead of looping through each element one by one.\n",
        "\n",
        "Without vectorization (normal Python list): You use a loop to handle each value.\n",
        "\n",
        "With vectorization (NumPy): The operation happens internally in optimized C code, so it’s much faster.\n",
        "\n",
        "**It’s faster because:**\n",
        "NumPy stores data in contiguous memory blocks and uses low-level, compiled code (C/Fortran) to process it.\n",
        "\n",
        "It avoids the slow Python for-loop overhead\n",
        "\n",
        "example:\n",
        "\n",
        "    import numpy as np\n",
        "\n",
        "    arr = np.array([1, 2, 3, 4])\n",
        "\n",
        "    # Vectorized operation\n",
        "    print(arr * 2)  output: [2 4 6 8]"
      ],
      "metadata": {
        "id": "loRJT4jeOeeO"
      }
    },
    {
      "cell_type": "markdown",
      "source": [
        "##9. How does Matplotlib differ from Plotly?\n",
        "- difference between Matplotlib and Plotly:\n",
        "\n",
        "1. Interactivity – Matplotlib creates mostly static plots, while Plotly creates interactive plots where you can zoom, hover, and pan.\n",
        "\n",
        "2. Ease of use – Plotly is easier for quick, good-looking charts; Matplotlib needs more code for customization.\n",
        "\n",
        "3. Output – Matplotlib outputs images (PNG, PDF, etc.), while Plotly outputs interactive HTML visualizations.\n",
        "\n",
        "4. Use cases – Matplotlib is great for static reports and publications; Plotly is better for dashboards and data exploration.\n",
        "\n",
        "5. Integration – Plotly works well with web apps (e.g., Dash), while Matplotlib is more suited for offline or printed reports\n",
        "\n",
        "example:\n",
        "\n",
        "Example (Matplotlib):\n",
        "\n",
        "    import matplotlib.pyplot as plt\n",
        "    plt.plot([1, 2, 3], [4, 5, 6])\n",
        "    plt.show()\n",
        "\n",
        "Example (Plotly) :\n",
        "\n",
        "    import plotly.express as px\n",
        "    fig = px.line(x=[1, 2, 3], y=[4, 5, 6])\n",
        "    fig.show()"
      ],
      "metadata": {
        "id": "8HWu0WBnOeif"
      }
    },
    {
      "cell_type": "markdown",
      "source": [
        "##10. What is the significance of hierarchical indexing in Pandas?\n",
        "- Significance:\n",
        "\n",
        "**1. Organizes complex data**\n",
        "\n",
        "Lets you store and work with higher-dimensional data in a 2D DataFrame.\n",
        "\n",
        "Example: Country → State → City hierarchy in the index.\n",
        "\n",
        "**2. Facilitates group-wise analysis**\n",
        "\n",
        "Allows grouping by multiple keys without losing the index structure.\n",
        "\n",
        "Makes operations like aggregation, pivoting, and slicing easier.\n",
        "\n",
        "**3. Enables multi-level slicing**\n",
        "\n",
        "You can access subsets of data with partial index keys.\n",
        "\n",
        "Example: df.loc['India'] gets all rows where the first index level is India.\n",
        "\n",
        "**4. Supports reshaping**\n",
        "\n",
        "Works well with stack(), unstack(), and pivot_table() for moving between “long” and “wide” formats.\n",
        "\n",
        "**5. Improves readability in some datasets**\n",
        "\n",
        "Makes related data points visually grouped in the index/columns\n",
        "\n",
        "example:\n",
        "\n",
        "    import pandas as pd\n",
        "    import numpy as np\n",
        "\n",
        "    arrays = [\n",
        "        ['India', 'India', 'USA', 'USA'],\n",
        "        ['Delhi', 'Mumbai', 'New York', 'Chicago']\n",
        "    ]\n",
        "    index = pd.MultiIndex.from_arrays(arrays, names=('Country', 'City'))\n",
        "    df = pd.DataFrame({'Population': [18, 20, 8, 3]}, index=index)\n",
        "\n",
        "    print(df)\n",
        "\n",
        "    Output:\n",
        "                  Population\n",
        "    Country City\n",
        "    India   Delhi         18\n",
        "            Mumbai        20\n",
        "    USA     New York       8\n",
        "            Chicago        3\n",
        "\n",
        "    # indexing\n",
        "    df.loc['India']\n",
        "\n",
        "    Output:\n",
        "\n",
        "            Population\n",
        "    City\n",
        "    Delhi         18\n",
        "    Mumbai        20\n"
      ],
      "metadata": {
        "id": "zMAUPWIDOelG"
      }
    },
    {
      "cell_type": "markdown",
      "source": [
        "##11. What is the role of Seaborn’s pairplot() function?\n",
        "- Seaborn’s pairplot() function is used to visually explore pairwise relationships between multiple variables in a dataset.\n",
        "\n",
        "Role:\n",
        "\n",
        "- Creates a grid of plots where each numeric variable is plotted against every other numeric variable.\n",
        "\n",
        "- Shows scatter plots for variable combinations and histograms/KDE plots on the diagonal for individual variable distributions.\n",
        "\n",
        "- Allows coloring (hue) to distinguish categories in the data.\n",
        "\n",
        "- Helpful for exploratory data analysis (EDA) to quickly identify correlations, patterns, or clusters.\n",
        "\n",
        "- In short — it’s a quick all-in-one visualization for understanding how dataset’s numeric variables relate to each other\n",
        "\n",
        "example:\n",
        "\n",
        "    import seaborn as sns\n",
        "    import matplotlib.pyplot as plt\n",
        "\n",
        "    # Load built-in penguins dataset\n",
        "    penguins = sns.load_dataset(\"penguins\")\n",
        "\n",
        "    # Create a pairplot\n",
        "    sns.pairplot(penguins, hue=\"species\", diag_kind=\"kde\")\n",
        "    plt.show()"
      ],
      "metadata": {
        "id": "24r3hhUqOenh"
      }
    },
    {
      "cell_type": "markdown",
      "source": [
        "##12. What is the purpose of the describe() function in Pandas?\n",
        "- The describe() function in Pandas is used to generate summary statistics of a DataFrame or Series.\n",
        "\n",
        "Purpose:\n",
        "\n",
        "Quickly provides an overview of the dataset’s numerical (and optionally categorical) columns.\n",
        "\n",
        "Returns measures like count, mean, standard deviation, minimum, quartiles, and maximum.\n",
        "\n",
        "Helps in Exploratory Data Analysis (EDA) by showing the distribution and range of data.\n",
        "\n",
        "Can be applied to both numerical and object (string/category) data.\n",
        "\n",
        "example:\n",
        "\n",
        "    import pandas as pd\n",
        "\n",
        "    # Sample data\n",
        "    data = {\n",
        "        'Age': [25, 30, 35, 40, 28],\n",
        "        'Salary': [50000, 60000, 75000, 80000, 56000]\n",
        "    }\n",
        "\n",
        "    df = pd.DataFrame(data)\n",
        "\n",
        "    # Using describe()\n",
        "    print(df.describe())\n",
        "\n",
        "    output:\n",
        "\n",
        "    Age        Salary\n",
        "    count   5.000000      5.000000\n",
        "    mean   31.600000  64200.000000\n",
        "    std     5.939697  12127.173285\n",
        "    min    25.000000  50000.000000\n",
        "    25%    28.000000  56000.000000\n",
        "    50%    30.000000  60000.000000\n",
        "    75%    35.000000  75000.000000\n",
        "    max    40.000000  80000.000000"
      ],
      "metadata": {
        "id": "Gt1SOtylOeqh"
      }
    },
    {
      "cell_type": "markdown",
      "source": [
        "##13. Why is handling missing data important in Pandas?\n",
        "- **Importance:**\n",
        "\n",
        "### 1. Maintains Data Accuracy\n",
        "\n",
        "Missing values can lead to **incorrect calculations** such as wrong averages, totals, or percentages.\n",
        "\n",
        "They can **bias statistical analysis** and give misleading results.\n",
        "\n",
        "###2. Prevents Errors in Computations\n",
        "\n",
        "Many machine learning models and functions in Pandas/Numpy cannot **handle  (null values) NaN values.**\n",
        "\n",
        "Missing values can cause code to crash or produce unexpected results.\n",
        "\n",
        "\n",
        "###3. Improves Data Quality\n",
        "\n",
        "Removing or imputing missing values ensures the dataset is **clean and reliable**.\n",
        "\n",
        "High-quality data improves the trustworthiness of analysis.\n",
        "\n",
        "\n",
        "###3. Enables Meaningful Insights\n",
        "\n",
        "Proper handling allows for correct **visualizations, correlations, and patterns**.\n",
        "\n",
        "Without handling, analysis might show false relationships.\n",
        "\n",
        "###5. Required for Machine Learning\n",
        "\n",
        "Most ML algorithms require a complete dataset without NaNs.\n",
        "\n",
        "Missing values need to be filled (imputed) or removed before training models.\n",
        "\n",
        "example:\n",
        "\n",
        "    import pandas as pd\n",
        "    import numpy as np\n",
        "\n",
        "    data = {'Name': ['Amit', 'Priya'], 'Age': [25, np.nan]}\n",
        "    df = pd.DataFrame(data)\n",
        "\n",
        "    print(\"Before:\\n\", df)\n",
        "    df['Age'].fillna(df['Age'].mean(), inplace=True)\n",
        "    print(\"\\nAfter:\\n\", df)\n",
        "\n",
        "    output:\n",
        "\n",
        "    Before:\n",
        "        Name   Age\n",
        "    0   Amit  25.0\n",
        "    1  Priya   NaN\n",
        "\n",
        "    After:\n",
        "        Name   Age\n",
        "    0   Amit  25.0\n",
        "    1  Priya  25.0\n",
        "\n",
        "\n",
        "\n"
      ],
      "metadata": {
        "id": "bzyt_sX_OetM"
      }
    },
    {
      "cell_type": "markdown",
      "source": [
        "##14. What are the benefits of using Plotly for data visualization?\n",
        "- Plotly is a powerful library for interactive data visualization in Python (and other languages). Unlike static libraries such as Matplotlib, Plotly provides interactive charts where users can zoom, pan, hover, and filter data directly in the graph.\n",
        "\n",
        "**Benefits of Using Plotly:**\n",
        "\n",
        "**Interactivity –** Charts allow zooming, hovering tooltips, filtering, and legends.\n",
        "\n",
        "**Wide variety of charts –** Supports line, bar, scatter, pie, 3D plots, maps, heatmaps, etc.\n",
        "\n",
        "**High-quality visuals –** Clean, professional, and publication-ready graphics.\n",
        "\n",
        "**Integration –** Works well with Jupyter Notebook, Dash (for dashboards), Pandas, and web applications.\n",
        "\n",
        "**Easy to use –** Simple syntax, especially when used with Pandas DataFrames.\n",
        "\n",
        "**Customization –** Extensive options for styling and annotations.\n",
        "\n",
        "**Web-ready –** Visualizations can be exported as HTML and embedded in websites.\n",
        "\n",
        " **Example:** Interactive Scatter Plot with Plotly\n",
        "\n",
        "    import plotly.express as px\n",
        "    import pandas as pd\n",
        "\n",
        "    data = {\n",
        "        \"Name\": [\"A\", \"B\", \"C\", \"D\", \"E\"],\n",
        "        \"Score\": [85, 90, 78, 88, 92],\n",
        "        \"Hours_Studied\": [5, 7, 4, 6, 8]\n",
        "    }\n",
        "    df = pd.DataFrame(data)\n",
        "\n",
        "    # Create interactive scatter plot\n",
        "    fig = px.scatter(\n",
        "        df,\n",
        "        x=\"Hours_Studied\",\n",
        "        y=\"Score\",\n",
        "        text=\"Name\",\n",
        "        size=\"Score\",\n",
        "        color=\"Score\",\n",
        "        title=\"Study Hours vs Score (Interactive)\"\n",
        "    )\n",
        "\n",
        "    fig.show()"
      ],
      "metadata": {
        "id": "XAT-LXwiOevu"
      }
    },
    {
      "cell_type": "markdown",
      "source": [
        "##15. How does NumPy handle multidimensional arrays?\n",
        "- NumPy handles multidimensional arrays using the ndarray object, which supports efficient storage, indexing, slicing, broadcasting, and vectorized operations\n",
        "\n",
        "How NumPy Handles Multidimensional Arrays\n",
        "\n",
        "**N-dimensional support**\n",
        "\n",
        "Unlike Python lists (which are one-dimensional by default), NumPy’s ndarray can represent data in any number of dimensions (1D, 2D, 3D, …, nD).\n",
        "\n",
        "**Example:**\n",
        "\n",
        "1D → Vector\n",
        "\n",
        "2D → Matrix (rows × columns)\n",
        "\n",
        "3D → Tensor (like stacks of matrices)\n",
        "\n",
        "**Shape and Dimensions**\n",
        "\n",
        "Every array has a .shape (tuple of sizes along each axis) and .ndim (number of dimensions).\n",
        "\n",
        "NumPy organizes data in contiguous memory blocks, which makes operations very fast.\n",
        "\n",
        "**Indexing and Slicing**\n",
        "\n",
        "-  elements can access using multiple indices (like arr[1,2] for row 1, col 2).\n",
        "\n",
        "-  sliceing can be done across dimensions (arr[:,1] → all rows of column 1).\n",
        "\n",
        "**Broadcasting**\n",
        "\n",
        "NumPy automatically adjusts arrays with different shapes to perform element-wise operations without manually looping.\n",
        "\n",
        "**Vectorized Operations**\n",
        "\n",
        "Operations (like addition, multiplication, mean, sum) apply across dimensions efficiently, avoiding slow Python loops.\n",
        "\n",
        " **Example:**\n",
        "\n",
        "    import numpy as np\n",
        "\n",
        "    # Create a 2D array (matrix)\n",
        "    arr = np.array([[1, 2, 3],\n",
        "                    [4, 5, 6]])\n",
        "\n",
        "    print(\"Array:\\n\", arr)\n",
        "    print(\"Dimensions:\", arr.ndim)   # 2D\n",
        "    print(\"Shape:\", arr.shape)       # (2, 3) → 2 rows, 3 columns\n",
        "    print(\"Element at row 1, col 2:\", arr[0, 1])  # Indexing → 2\n",
        "\n",
        "    # Create a 3D array\n",
        "    arr3d = np.array([[[1,2],[3,4]], [[5,6],[7,8]]])\n",
        "    print(\"\\n3D Array Shape:\", arr3d.shape)  # (2, 2, 2)\n",
        "\n",
        "    Output\n",
        "    Array:\n",
        "    [[1 2 3]\n",
        "      [4 5 6]]\n",
        "    Dimensions: 2\n",
        "    Shape: (2, 3)\n",
        "    Element at row 1, col 2: 2\n",
        "\n",
        "    3D Array Shape: (2, 2, 2)"
      ],
      "metadata": {
        "id": "F3pCTYsqOex6"
      }
    },
    {
      "cell_type": "markdown",
      "source": [
        "##16. What is the role of Bokeh in data visualization?\n",
        "- Bokeh is a Python library for interactive data visualization,it is web-friendly, especially designed for web applications.\n",
        "\n",
        "**Role of Bokeh in Data Visualization:**\n",
        "\n",
        "**Interactive Plots –** Provides zoom, pan, hover tooltips, and selection tools.\n",
        "\n",
        "**Web Integration –** Generates visualizations in HTML, JavaScript, or JSON, so charts can be embedded in websites and dashboards.\n",
        "\n",
        "**Large Dataset Handling –** Optimized for streaming and real-time data visualization.\n",
        "\n",
        "**Flexibility –** Supports line, bar, scatter, heatmaps, network graphs, and more.\n",
        "\n",
        "**Easy to Use –** High-level interface (bokeh.plotting) for quick plots, and low-level interface for customization.\n",
        "\n",
        "Example: Interactive Plot in Bokeh\n",
        "\n",
        "    from bokeh.plotting import figure, show\n",
        "\n",
        "    # Create a figure\n",
        "    p = figure(title=\"Bokeh Line Example\", x_axis_label='X', y_axis_label='Y')\n",
        "\n",
        "    # Add a line\n",
        "    p.line([1, 2, 3, 4, 5], [6, 7, 2, 4, 5], line_width=2)\n",
        "\n",
        "    # Show the plot\n",
        "    show(p)"
      ],
      "metadata": {
        "id": "85yfle3dOe1g"
      }
    },
    {
      "cell_type": "markdown",
      "source": [
        "##17. Explain the difference between apply() and map() in Pandas?\n",
        "- Feature\n",
        "\n",
        "###**map()**\n",
        "\n",
        "**Works on** only Series (1D)\n",
        "\n",
        "**Function Application**\tApplies a function element-wise on each value in a Series\n",
        "\n",
        "**Flexibility**\tLimited – works with functions, dictionaries, or Series for mapping values\n",
        "\n",
        "**Use** When transforming is needed to individual elements in a single column\n",
        "\n",
        "###**apply()**\n",
        "\n",
        "**Works on** Both Series (1D) DataFrame (2D)\n",
        "\n",
        "**Function Application** Can apply a function to rows, columns, or entire DataFrame\n",
        "\n",
        "**Flexibility**\t Limited – More flexible – can apply custom functions across rows/columns\n",
        "\n",
        "**Use** When a row-wise or column-wise transformations on a DataFrame is needed"
      ],
      "metadata": {
        "id": "nqILrw5rQZDK"
      }
    },
    {
      "cell_type": "markdown",
      "source": [
        "##18. What are some advanced features of NumPy?\n",
        "- Advanced features of NumPy :  \n",
        "\n",
        "**1. Broadcasting –** Allows arrays of different shapes to be used together in arithmetic operations without manually reshaping them.\n",
        "\n",
        "**2. Vectorization –** Performs operations on entire arrays at once instead of looping through elements, making computations much faster.\n",
        "\n",
        "**3. Universal Functions (ufuncs) –** Built-in fast element-wise functions for math, logic, trigonometry, statistics, etc.\n",
        "\n",
        "**4. Linear Algebra Support –** Provides functions for matrix multiplication, determinants, eigenvalues, singular value decomposition, etc.\n",
        "\n",
        "**5. Random Number Generation –** Has tools to generate random numbers, sample distributions, and perform simulations.\n",
        "\n",
        "**6. Masked Arrays –** Allows ignoring or hiding certain elements in an array (useful for handling missing or invalid data).\n",
        "\n",
        "**7. Memory Efficiency –** Stores large datasets efficiently in contiguous memory and supports different data types.\n",
        "\n",
        "**8. Advanced Indexing & Slicing –** Supports boolean indexing, fancy indexing, and multidimensional slicing for powerful data selection.\n",
        "\n",
        "**9. Fourier Transform & Signal Processing –** Functions for frequency domain analysis.\n",
        "\n",
        "**10. Integration with Other Libraries –** Forms the foundation for libraries like Pandas, SciPy, Scikit-learn, and TensorFlow"
      ],
      "metadata": {
        "id": "jKwObzC9QZGL"
      }
    },
    {
      "cell_type": "markdown",
      "source": [
        "##19. How does Pandas simplify time series analysis?\n",
        "- Pandas is widely used for time series analysis because it has built-in support for dates, times, and time-indexed data.\n",
        "\n",
        "Pandas Simplifies Time Series Analysis through following ways\n",
        "\n",
        "**1. Datetime Indexing –** You can set a DatetimeIndex which allows slicing data by date and time ranges.\n",
        "\n",
        "**2. Date/Time Conversion –** Functions like pd.to_datetime() easily convert strings to datetime objects.\n",
        "\n",
        "**3. Resampling –** You can resample data to different frequencies (e.g., daily → monthly, hourly → weekly).\n",
        "\n",
        "**4. Shifting/Lagging –** Functions like .shift() and .tshift() help analyze trends and changes over time.\n",
        "\n",
        "**5. Rolling/Window Functions –** Provides moving averages, rolling sums, and other window-based calculations.\n",
        "\n",
        "**6. Time Zone Handling –** Supports time zones and conversions.\n",
        "\n",
        "**7. Convenient Slicing –** Allows intuitive date-based slicing (e.g., df['2023-01'] gives all data for Jan 2023).\n",
        "\n",
        "Example:\n",
        "\n",
        "    import pandas as pd\n",
        "    import numpy as np\n",
        "\n",
        "    # Create a date range\n",
        "    dates = pd.date_range(\"2023-01-01\", periods=10, freq=\"D\")\n",
        "\n",
        "    # Create a DataFrame with random data\n",
        "    df = pd.DataFrame({\"Sales\": np.random.randint(100, 500, size=10)}, index=dates)\n",
        "\n",
        "    print(\"Original Data:\\n\", df)\n",
        "\n",
        "    # Resample data to weekly and calculate sum\n",
        "    weekly_sales = df.resample(\"W\").sum()\n",
        "    print(\"\\nWeekly Sales:\\n\", weekly_sales)\n",
        "\n",
        "    # Rolling 3-day moving average\n",
        "    df[\"3_day_avg\"] = df[\"Sales\"].rolling(3).mean()\n",
        "    print(\"\\nWith 3-day Moving Average:\\n\", df)\n",
        "\n",
        "    Output\n",
        "    Original Data:\n",
        "                Sales\n",
        "    2023-01-01    150\n",
        "    2023-01-02    320\n",
        "    2023-01-03    210\n",
        "    2023-01-04    400\n",
        "    ...\n",
        "\n",
        "    Weekly Sales:\n",
        "                Sales\n",
        "    2023-01-01    150\n",
        "    2023-01-08   1430\n",
        "    2023-01-15   1150\n",
        "\n",
        "    With 3-day Moving Average:\n",
        "                Sales   3_day_avg\n",
        "    2023-01-01    150         NaN\n",
        "    2023-01-02    320         NaN\n",
        "    2023-01-03    210  226.666667\n",
        "    2023-01-04    400  310.000000\n",
        "    ..."
      ],
      "metadata": {
        "id": "JKz0pE2EQZJN"
      }
    },
    {
      "cell_type": "markdown",
      "source": [
        "##20. What is the role of a pivot table in Pandas?\n",
        "- A pivot table in Pandas is used to summarize and reorganize data for better analysis. It allows you to transform large datasets into a structured table where you can easily see relationships, totals, and comparisons.\n",
        "\n",
        "**Role of a Pivot Table in Pandas**\n",
        "\n",
        "1. Summarization – Aggregates data (like sum, mean, count) based on categories.\n",
        "\n",
        "2. Restructuring Data – Rearranges data into a more readable, tabular format.\n",
        "\n",
        "3. Multi-level Grouping – Lets you analyze data across multiple dimensions (rows & columns).\n",
        "\n",
        "4. Quick Insights – Helps in comparing categories side by side.\n",
        "\n",
        "5. Flexibility – You can choose which column becomes rows, which becomes columns, and which values to aggregate.\n",
        "\n",
        "Example:\n",
        "\n",
        "    import pandas as pd\n",
        "\n",
        "    data = {\n",
        "        \"Department\": [\"HR\", \"HR\", \"IT\", \"IT\", \"Finance\", \"Finance\"],\n",
        "        \"Employee\": [\"A\", \"B\", \"C\", \"D\", \"E\", \"F\"],\n",
        "        \"Salary\": [3000, 3500, 4000, 4200, 5000, 5200]\n",
        "    }\n",
        "\n",
        "    df = pd.DataFrame(data)\n",
        "\n",
        "    # Create a pivot table\n",
        "    pivot = pd.pivot_table(df, values=\"Salary\", index=\"Department\", aggfunc=\"mean\")\n",
        "    print(pivot)\n",
        "\n",
        "    Output\n",
        "                Salary\n",
        "    Department         \n",
        "    Finance       5100\n",
        "    HR            3250\n",
        "    IT            4100"
      ],
      "metadata": {
        "id": "kdO_0QiTQZMy"
      }
    },
    {
      "cell_type": "markdown",
      "source": [
        "## 21. Why is NumPy’s array slicing faster than Python’s list slicing)\n",
        "- **Memory Layout**\n",
        "\n",
        "Python lists store references (pointers) to objects scattered in memory. Slicing creates a new list with copied references.\n",
        "\n",
        "NumPy arrays store data in a contiguous memory block of fixed-size elements. Slicing just creates a view (not a copy) of the same memory block, without extra data movement.\n",
        "\n",
        "- **Data Type Consistency**\n",
        "\n",
        "Python lists can hold mixed data types → requires extra overhead.\n",
        "\n",
        "NumPy arrays hold homogeneous data types, enabling low-level C optimizations.\n",
        "\n",
        "- **Vectorization & C Backend**\n",
        "\n",
        "NumPy uses efficient C loops internally instead of slow Python loops\n",
        "\n",
        "example :\n",
        "\n",
        "    import numpy as np\n",
        "    import time\n",
        "\n",
        "    py_list = list(range(10_000_000))\n",
        "\n",
        "    start = time.time()\n",
        "    list_slice = py_list[1_000_000:2_000_000]\n",
        "    end = time.time()\n",
        "    print(\"Python list slicing time:\", end - start)\n",
        "\n",
        "    # NumPy array\n",
        "    np_array = np.arange(10_000_000)\n",
        "\n",
        "    start = time.time()\n",
        "    array_slice = np_array[1_000_000:2_000_000]\n",
        "    end = time.time()\n",
        "    print(\"NumPy array slicing time:\", end - start)\n",
        "\n",
        "    # memory sharing in NumPy\n",
        "    print(\"Does NumPy slice share memory?\", array_slice.base is np_array)\n",
        "\n",
        "    Output\n",
        "\n",
        "    Python list slicing time: 0.0124\n",
        "    NumPy array slicing time: 0.000002\n",
        "    Does NumPy slice share memory? True"
      ],
      "metadata": {
        "id": "pLF89n9aY4go"
      }
    },
    {
      "cell_type": "markdown",
      "source": [
        "##22. What are some common use cases for Seaborn?\n",
        "- Seaborn is a statistical data visualization library built on top of Matplotlib. It makes it easier to create attractive, informative, and high-level plots with very little code.\n",
        "\n",
        "**Common Use Cases for Seaborn**\n",
        "\n",
        "**1. Exploratory Data Analysis (EDA**)\n",
        "\n",
        "Quickly visualize distributions, relationships, and trends in datasets.\n",
        "\n",
        "**2. Visualizing Distributions**\n",
        "\n",
        "histplot(), kdeplot(), and distplot() (deprecated) to check how data is spread.\n",
        "\n",
        "**3. Comparing Categories**\n",
        "\n",
        "barplot(), countplot(), and boxplot() to compare numerical data across categorical groups.\n",
        "\n",
        "**4. Analyzing Relationships**\n",
        "\n",
        "scatterplot(), lineplot(), and lmplot() to show relationships and regression trends.\n",
        "\n",
        "**5. Correlation and Heatmaps**\n",
        "\n",
        "heatmap() to visualize correlation matrices or highlight patterns in data.\n",
        "\n",
        "**6. Time Series Analysis**\n",
        "\n",
        "lineplot() to visualize trends over time.\n",
        "\n",
        "**7. Pairwise Relationships**\n",
        "\n",
        "pairplot() to quickly explore relationships between multiple variables.\n",
        "\n",
        "**8. Customization with Themes**\n",
        "\n",
        "Provides built-in themes (darkgrid, whitegrid, etc.) for professional visuals.\n",
        "\n",
        "**Example: Heatmap for Correlation**\n",
        "\n",
        "    import seaborn as sns\n",
        "    import pandas as pd\n",
        "\n",
        "    df = pd.DataFrame({\n",
        "        \"Math\": [80, 90, 70, 60, 85],\n",
        "        \"Science\": [78, 88, 65, 72, 95],\n",
        "        \"English\": [75, 85, 70, 68, 80]\n",
        "    })\n",
        "\n",
        "    # Create correlation heatmap\n",
        "    sns.heatmap(df.corr(), annot=True, cmap=\"coolwarm\")"
      ],
      "metadata": {
        "id": "vcsx2jQvQZWt"
      }
    },
    {
      "cell_type": "markdown",
      "source": [
        "# Practical\n",
        "\n",
        "\n",
        "\n",
        "\n",
        "\n",
        "\n",
        "\n",
        "\n",
        "\n",
        "\n",
        "\n",
        "\n"
      ],
      "metadata": {
        "id": "LWfu43u2LsBc"
      }
    },
    {
      "cell_type": "code",
      "source": [
        "# 1. How do you create a 2D NumPy array and calculate the sum of each row?\n",
        "\n",
        "import numpy as np\n",
        "\n",
        "arr = np.array([[1, 2, 3], [4, 5, 6], [7, 8, 9]])\n",
        "row_sum = arr.sum(axis=1)\n",
        "print(\"Row sums:\", row_sum)"
      ],
      "metadata": {
        "id": "r47irUnZRAA9",
        "colab": {
          "base_uri": "https://localhost:8080/"
        },
        "outputId": "371b9fd8-9498-4a08-9779-370b928938f4"
      },
      "execution_count": null,
      "outputs": [
        {
          "output_type": "stream",
          "name": "stdout",
          "text": [
            "Row sums: [ 6 15 24]\n"
          ]
        }
      ]
    },
    {
      "cell_type": "code",
      "source": [
        "# 2. Write a Pandas script to find the mean of a specific column in a DataFrame.\n",
        "\n",
        "import pandas as pd\n",
        "\n",
        "df = pd.DataFrame({\"Name\": [\"A\", \"B\", \"C\"], \"Marks\": [80, 90, 70]})\n",
        "mean_val = df[\"Marks\"].mean()\n",
        "print(\"Mean of Marks column:\", mean_val)"
      ],
      "metadata": {
        "id": "ZCPNrXXFRBT6",
        "colab": {
          "base_uri": "https://localhost:8080/"
        },
        "outputId": "412c8f23-4c25-4b00-92f8-5eb549157a86"
      },
      "execution_count": null,
      "outputs": [
        {
          "output_type": "stream",
          "name": "stdout",
          "text": [
            "Mean of Marks column: 80.0\n"
          ]
        }
      ]
    },
    {
      "cell_type": "code",
      "source": [
        "# 3. Create a scatter plot using Matplotlib.\n",
        "\n",
        "import matplotlib.pyplot as plt\n",
        "\n",
        "x = [1, 2, 3, 4, 5]\n",
        "y = [5, 7, 6, 8, 7]\n",
        "\n",
        "plt.scatter(x, y)\n",
        "plt.title(\"Scatter Plot\")\n",
        "plt.xlabel(\"X-axis\")\n",
        "plt.ylabel(\"Y-axis\")\n",
        "plt.show()"
      ],
      "metadata": {
        "id": "F2jS3u32RBgy",
        "colab": {
          "base_uri": "https://localhost:8080/",
          "height": 472
        },
        "outputId": "994af507-db2c-4d9d-ace0-1db75a8ad065"
      },
      "execution_count": null,
      "outputs": [
        {
          "output_type": "display_data",
          "data": {
            "text/plain": [
              "<Figure size 640x480 with 1 Axes>"
            ],
            "image/png": "[encoded data removed]"
          },
          "metadata": {}
        }
      ]
    },
    {
      "cell_type": "code",
      "source": [
        "# 4. How do you calculate the correlation matrix using Seaborn and visualize it with a heatmap?\n",
        "\n",
        "import seaborn as sns\n",
        "import pandas as pd\n",
        "\n",
        "df = pd.DataFrame({\n",
        "    \"A\": [1, 2, 3, 4, 5],\n",
        "    \"B\": [5, 4, 3, 2, 1],\n",
        "    \"C\": [2, 3, 4, 5, 6]\n",
        "})\n",
        "\n",
        "sns.heatmap(df.corr(), annot=True, cmap=\"coolwarm\")"
      ],
      "metadata": {
        "id": "B-SWHlFkRBtp",
        "colab": {
          "base_uri": "https://localhost:8080/",
          "height": 452
        },
        "outputId": "0c47be62-0447-4644-e6d2-d447074f48d8"
      },
      "execution_count": null,
      "outputs": [
        {
          "output_type": "execute_result",
          "data": {
            "text/plain": [
              "<Axes: >"
            ]
          },
          "metadata": {},
          "execution_count": 12
        },
        {
          "output_type": "display_data",
          "data": {
            "text/plain": [
              "<Figure size 640x480 with 2 Axes>"
            ],
            "image/png": "[encoded data removed]"
          },
          "metadata": {}
        }
      ]
    },
    {
      "cell_type": "code",
      "source": [
        "# 5. Generate a bar plot using Plotly.\n",
        "\n",
        "import plotly.express as px\n",
        "\n",
        "df = pd.DataFrame({\"Fruits\": [\"Apple\", \"Banana\", \"Orange\"], \"Sales\": [30, 40, 20]})\n",
        "fig = px.bar(df, x=\"Fruits\", y=\"Sales\", title=\"Fruit Sales\")\n",
        "fig.show()"
      ],
      "metadata": {
        "id": "vAoCT-_9RB43",
        "colab": {
          "base_uri": "https://localhost:8080/",
          "height": 542
        },
        "outputId": "f5f4a728-840a-4064-edcb-9229c2d9008b"
      },
      "execution_count": null,
      "outputs": [
        {
          "output_type": "display_data",
          "data": {
            "text/html": [
              "<html>\n",
              "<head><meta charset=\"utf-8\" /></head>\n",
              "<body>\n",
              "    <div>            <script src=\"https://cdnjs.cloudflare.com/ajax/libs/mathjax/2.7.5/MathJax.js?config=TeX-AMS-MML_SVG\"></script><script type=\"text/javascript\">if (window.MathJax && window.MathJax.Hub && window.MathJax.Hub.Config) {window.MathJax.Hub.Config({SVG: {font: \"STIX-Web\"}});}</script>                <script type=\"text/javascript\">window.PlotlyConfig = {MathJaxConfig: 'local'};</script>\n",
              "        <script charset=\"utf-8\" src=\"https://cdn.plot.ly/plotly-2.35.2.min.js\"></script>                <div id=\"105e1b15-b89a-4b04-99f5-2e8e3bfbd147\" class=\"plotly-graph-div\" style=\"height:525px; width:100%;\"></div>            <script type=\"text/javascript\">                                    window.PLOTLYENV=window.PLOTLYENV || {};                                    if (document.getElementById(\"105e1b15-b89a-4b04-99f5-2e8e3bfbd147\")) {                    Plotly.newPlot(                        \"105e1b15-b89a-4b04-99f5-2e8e3bfbd147\",                        [{\"alignmentgroup\":\"True\",\"hovertemplate\":\"Fruits=%{x}\\u003cbr\\u003eSales=%{y}\\u003cextra\\u003e\\u003c\\u002fextra\\u003e\",\"legendgroup\":\"\",\"marker\":{\"color\":\"#636efa\",\"pattern\":{\"shape\":\"\"}},\"name\":\"\",\"offsetgroup\":\"\",\"orientation\":\"v\",\"showlegend\":false,\"textposition\":\"auto\",\"x\":[\"Apple\",\"Banana\",\"Orange\"],\"xaxis\":\"x\",\"y\":[30,40,20],\"yaxis\":\"y\",\"type\":\"bar\"}],                        {\"template\":{\"data\":{\"histogram2dcontour\":[{\"type\":\"histogram2dcontour\",\"colorbar\":{\"outlinewidth\":0,\"ticks\":\"\"},\"colorscale\":[[0.0,\"#0d0887\"],[0.1111111111111111,\"#46039f\"],[0.2222222222222222,\"#7201a8\"],[0.3333333333333333,\"#9c179e\"],[0.4444444444444444,\"#bd3786\"],[0.5555555555555556,\"#d8576b\"],[0.6666666666666666,\"#ed7953\"],[0.7777777777777778,\"#fb9f3a\"],[0.8888888888888888,\"#fdca26\"],[1.0,\"#f0f921\"]]}],\"choropleth\":[{\"type\":\"choropleth\",\"colorbar\":{\"outlinewidth\":0,\"ticks\":\"\"}}],\"histogram2d\":[{\"type\":\"histogram2d\",\"colorbar\":{\"outlinewidth\":0,\"ticks\":\"\"},\"colorscale\":[[0.0,\"#0d0887\"],[0.1111111111111111,\"#46039f\"],[0.2222222222222222,\"#7201a8\"],[0.3333333333333333,\"#9c179e\"],[0.4444444444444444,\"#bd3786\"],[0.5555555555555556,\"#d8576b\"],[0.6666666666666666,\"#ed7953\"],[0.7777777777777778,\"#fb9f3a\"],[0.8888888888888888,\"#fdca26\"],[1.0,\"#f0f921\"]]}],\"heatmap\":[{\"type\":\"heatmap\",\"colorbar\":{\"outlinewidth\":0,\"ticks\":\"\"},\"colorscale\":[[0.0,\"#0d0887\"],[0.1111111111111111,\"#46039f\"],[0.2222222222222222,\"#7201a8\"],[0.3333333333333333,\"#9c179e\"],[0.4444444444444444,\"#bd3786\"],[0.5555555555555556,\"#d8576b\"],[0.6666666666666666,\"#ed7953\"],[0.7777777777777778,\"#fb9f3a\"],[0.8888888888888888,\"#fdca26\"],[1.0,\"#f0f921\"]]}],\"heatmapgl\":[{\"type\":\"heatmapgl\",\"colorbar\":{\"outlinewidth\":0,\"ticks\":\"\"},\"colorscale\":[[0.0,\"#0d0887\"],[0.1111111111111111,\"#46039f\"],[0.2222222222222222,\"#7201a8\"],[0.3333333333333333,\"#9c179e\"],[0.4444444444444444,\"#bd3786\"],[0.5555555555555556,\"#d8576b\"],[0.6666666666666666,\"#ed7953\"],[0.7777777777777778,\"#fb9f3a\"],[0.8888888888888888,\"#fdca26\"],[1.0,\"#f0f921\"]]}],\"contourcarpet\":[{\"type\":\"contourcarpet\",\"colorbar\":{\"outlinewidth\":0,\"ticks\":\"\"}}],\"contour\":[{\"type\":\"contour\",\"colorbar\":{\"outlinewidth\":0,\"ticks\":\"\"},\"colorscale\":[[0.0,\"#0d0887\"],[0.1111111111111111,\"#46039f\"],[0.2222222222222222,\"#7201a8\"],[0.3333333333333333,\"#9c179e\"],[0.4444444444444444,\"#bd3786\"],[0.5555555555555556,\"#d8576b\"],[0.6666666666666666,\"#ed7953\"],[0.7777777777777778,\"#fb9f3a\"],[0.8888888888888888,\"#fdca26\"],[1.0,\"#f0f921\"]]}],\"surface\":[{\"type\":\"surface\",\"colorbar\":{\"outlinewidth\":0,\"ticks\":\"\"},\"colorscale\":[[0.0,\"#0d0887\"],[0.1111111111111111,\"#46039f\"],[0.2222222222222222,\"#7201a8\"],[0.3333333333333333,\"#9c179e\"],[0.4444444444444444,\"#bd3786\"],[0.5555555555555556,\"#d8576b\"],[0.6666666666666666,\"#ed7953\"],[0.7777777777777778,\"#fb9f3a\"],[0.8888888888888888,\"#fdca26\"],[1.0,\"#f0f921\"]]}],\"mesh3d\":[{\"type\":\"mesh3d\",\"colorbar\":{\"outlinewidth\":0,\"ticks\":\"\"}}],\"scatter\":[{\"fillpattern\":{\"fillmode\":\"overlay\",\"size\":10,\"solidity\":0.2},\"type\":\"scatter\"}],\"parcoords\":[{\"type\":\"parcoords\",\"line\":{\"colorbar\":{\"outlinewidth\":0,\"ticks\":\"\"}}}],\"scatterpolargl\":[{\"type\":\"scatterpolargl\",\"marker\":{\"colorbar\":{\"outlinewidth\":0,\"ticks\":\"\"}}}],\"bar\":[{\"error_x\":{\"color\":\"#2a3f5f\"},\"error_y\":{\"color\":\"#2a3f5f\"},\"marker\":{\"line\":{\"color\":\"#E5ECF6\",\"width\":0.5},\"pattern\":{\"fillmode\":\"overlay\",\"size\":10,\"solidity\":0.2}},\"type\":\"bar\"}],\"scattergeo\":[{\"type\":\"scattergeo\",\"marker\":{\"colorbar\":{\"outlinewidth\":0,\"ticks\":\"\"}}}],\"scatterpolar\":[{\"type\":\"scatterpolar\",\"marker\":{\"colorbar\":{\"outlinewidth\":0,\"ticks\":\"\"}}}],\"histogram\":[{\"marker\":{\"pattern\":{\"fillmode\":\"overlay\",\"size\":10,\"solidity\":0.2}},\"type\":\"histogram\"}],\"scattergl\":[{\"type\":\"scattergl\",\"marker\":{\"colorbar\":{\"outlinewidth\":0,\"ticks\":\"\"}}}],\"scatter3d\":[{\"type\":\"scatter3d\",\"line\":{\"colorbar\":{\"outlinewidth\":0,\"ticks\":\"\"}},\"marker\":{\"colorbar\":{\"outlinewidth\":0,\"ticks\":\"\"}}}],\"scattermapbox\":[{\"type\":\"scattermapbox\",\"marker\":{\"colorbar\":{\"outlinewidth\":0,\"ticks\":\"\"}}}],\"scatterternary\":[{\"type\":\"scatterternary\",\"marker\":{\"colorbar\":{\"outlinewidth\":0,\"ticks\":\"\"}}}],\"scattercarpet\":[{\"type\":\"scattercarpet\",\"marker\":{\"colorbar\":{\"outlinewidth\":0,\"ticks\":\"\"}}}],\"carpet\":[{\"aaxis\":{\"endlinecolor\":\"#2a3f5f\",\"gridcolor\":\"white\",\"linecolor\":\"white\",\"minorgridcolor\":\"white\",\"startlinecolor\":\"#2a3f5f\"},\"baxis\":{\"endlinecolor\":\"#2a3f5f\",\"gridcolor\":\"white\",\"linecolor\":\"white\",\"minorgridcolor\":\"white\",\"startlinecolor\":\"#2a3f5f\"},\"type\":\"carpet\"}],\"table\":[{\"cells\":{\"fill\":{\"color\":\"#EBF0F8\"},\"line\":{\"color\":\"white\"}},\"header\":{\"fill\":{\"color\":\"#C8D4E3\"},\"line\":{\"color\":\"white\"}},\"type\":\"table\"}],\"barpolar\":[{\"marker\":{\"line\":{\"color\":\"#E5ECF6\",\"width\":0.5},\"pattern\":{\"fillmode\":\"overlay\",\"size\":10,\"solidity\":0.2}},\"type\":\"barpolar\"}],\"pie\":[{\"automargin\":true,\"type\":\"pie\"}]},\"layout\":{\"autotypenumbers\":\"strict\",\"colorway\":[\"#636efa\",\"#EF553B\",\"#00cc96\",\"#ab63fa\",\"#FFA15A\",\"#19d3f3\",\"#FF6692\",\"#B6E880\",\"#FF97FF\",\"#FECB52\"],\"font\":{\"color\":\"#2a3f5f\"},\"hovermode\":\"closest\",\"hoverlabel\":{\"align\":\"left\"},\"paper_bgcolor\":\"white\",\"plot_bgcolor\":\"#E5ECF6\",\"polar\":{\"bgcolor\":\"#E5ECF6\",\"angularaxis\":{\"gridcolor\":\"white\",\"linecolor\":\"white\",\"ticks\":\"\"},\"radialaxis\":{\"gridcolor\":\"white\",\"linecolor\":\"white\",\"ticks\":\"\"}},\"ternary\":{\"bgcolor\":\"#E5ECF6\",\"aaxis\":{\"gridcolor\":\"white\",\"linecolor\":\"white\",\"ticks\":\"\"},\"baxis\":{\"gridcolor\":\"white\",\"linecolor\":\"white\",\"ticks\":\"\"},\"caxis\":{\"gridcolor\":\"white\",\"linecolor\":\"white\",\"ticks\":\"\"}},\"coloraxis\":{\"colorbar\":{\"outlinewidth\":0,\"ticks\":\"\"}},\"colorscale\":{\"sequential\":[[0.0,\"#0d0887\"],[0.1111111111111111,\"#46039f\"],[0.2222222222222222,\"#7201a8\"],[0.3333333333333333,\"#9c179e\"],[0.4444444444444444,\"#bd3786\"],[0.5555555555555556,\"#d8576b\"],[0.6666666666666666,\"#ed7953\"],[0.7777777777777778,\"#fb9f3a\"],[0.8888888888888888,\"#fdca26\"],[1.0,\"#f0f921\"]],\"sequentialminus\":[[0.0,\"#0d0887\"],[0.1111111111111111,\"#46039f\"],[0.2222222222222222,\"#7201a8\"],[0.3333333333333333,\"#9c179e\"],[0.4444444444444444,\"#bd3786\"],[0.5555555555555556,\"#d8576b\"],[0.6666666666666666,\"#ed7953\"],[0.7777777777777778,\"#fb9f3a\"],[0.8888888888888888,\"#fdca26\"],[1.0,\"#f0f921\"]],\"diverging\":[[0,\"#8e0152\"],[0.1,\"#c51b7d\"],[0.2,\"#de77ae\"],[0.3,\"#f1b6da\"],[0.4,\"#fde0ef\"],[0.5,\"#f7f7f7\"],[0.6,\"#e6f5d0\"],[0.7,\"#b8e186\"],[0.8,\"#7fbc41\"],[0.9,\"#4d9221\"],[1,\"#276419\"]]},\"xaxis\":{\"gridcolor\":\"white\",\"linecolor\":\"white\",\"ticks\":\"\",\"title\":{\"standoff\":15},\"zerolinecolor\":\"white\",\"automargin\":true,\"zerolinewidth\":2},\"yaxis\":{\"gridcolor\":\"white\",\"linecolor\":\"white\",\"ticks\":\"\",\"title\":{\"standoff\":15},\"zerolinecolor\":\"white\",\"automargin\":true,\"zerolinewidth\":2},\"scene\":{\"xaxis\":{\"backgroundcolor\":\"#E5ECF6\",\"gridcolor\":\"white\",\"linecolor\":\"white\",\"showbackground\":true,\"ticks\":\"\",\"zerolinecolor\":\"white\",\"gridwidth\":2},\"yaxis\":{\"backgroundcolor\":\"#E5ECF6\",\"gridcolor\":\"white\",\"linecolor\":\"white\",\"showbackground\":true,\"ticks\":\"\",\"zerolinecolor\":\"white\",\"gridwidth\":2},\"zaxis\":{\"backgroundcolor\":\"#E5ECF6\",\"gridcolor\":\"white\",\"linecolor\":\"white\",\"showbackground\":true,\"ticks\":\"\",\"zerolinecolor\":\"white\",\"gridwidth\":2}},\"shapedefaults\":{\"line\":{\"color\":\"#2a3f5f\"}},\"annotationdefaults\":{\"arrowcolor\":\"#2a3f5f\",\"arrowhead\":0,\"arrowwidth\":1},\"geo\":{\"bgcolor\":\"white\",\"landcolor\":\"#E5ECF6\",\"subunitcolor\":\"white\",\"showland\":true,\"showlakes\":true,\"lakecolor\":\"white\"},\"title\":{\"x\":0.05},\"mapbox\":{\"style\":\"light\"}}},\"xaxis\":{\"anchor\":\"y\",\"domain\":[0.0,1.0],\"title\":{\"text\":\"Fruits\"}},\"yaxis\":{\"anchor\":\"x\",\"domain\":[0.0,1.0],\"title\":{\"text\":\"Sales\"}},\"legend\":{\"tracegroupgap\":0},\"title\":{\"text\":\"Fruit Sales\"},\"barmode\":\"relative\"},                        {\"responsive\": true}                    ).then(function(){\n",
              "                            \n",
              "var gd = document.getElementById('105e1b15-b89a-4b04-99f5-2e8e3bfbd147');\n",
              "var x = new MutationObserver(function (mutations, observer) {{\n",
              "        var display = window.getComputedStyle(gd).display;\n",
              "        if (!display || display === 'none') {{\n",
              "            console.log([gd, 'removed!']);\n",
              "            Plotly.purge(gd);\n",
              "            observer.disconnect();\n",
              "        }}\n",
              "}});\n",
              "\n",
              "// Listen for the removal of the full notebook cells\n",
              "var notebookContainer = gd.closest('#notebook-container');\n",
              "if (notebookContainer) {{\n",
              "    x.observe(notebookContainer, {childList: true});\n",
              "}}\n",
              "\n",
              "// Listen for the clearing of the current output cell\n",
              "var outputEl = gd.closest('.output');\n",
              "if (outputEl) {{\n",
              "    x.observe(outputEl, {childList: true});\n",
              "}}\n",
              "\n",
              "                        })                };                            </script>        </div>\n",
              "</body>\n",
              "</html>"
            ]
          },
          "metadata": {}
        }
      ]
    },
    {
      "cell_type": "code",
      "source": [
        "# 6. Create a DataFrame and add a new column based on an existing column.\n",
        "\n",
        "df = pd.DataFrame({\"Name\": [\"A\", \"B\", \"C\"], \"Marks\": [80, 90, 70]})\n",
        "df[\"Passed\"] = df[\"Marks\"] > 75\n",
        "print(df)"
      ],
      "metadata": {
        "id": "l73yxwtdRCFV",
        "colab": {
          "base_uri": "https://localhost:8080/"
        },
        "outputId": "ae1056e2-6388-4f3d-9fbd-6780d2c6f2f6"
      },
      "execution_count": null,
      "outputs": [
        {
          "output_type": "stream",
          "name": "stdout",
          "text": [
            "  Name  Marks  Passed\n",
            "0    A     80    True\n",
            "1    B     90    True\n",
            "2    C     70   False\n"
          ]
        }
      ]
    },
    {
      "cell_type": "code",
      "source": [
        "# 7. Write a program to perform element-wise multiplication of two NumPy arrays.\n",
        "\n",
        "a = np.array([1, 2, 3])\n",
        "b = np.array([4, 5, 6])\n",
        "result = a * b\n",
        "print(\"Element-wise multiplication:\", result)\n",
        "\n"
      ],
      "metadata": {
        "id": "GL6jYEYZRCRe",
        "colab": {
          "base_uri": "https://localhost:8080/"
        },
        "outputId": "f0ab71ae-41a2-4a10-bc25-884ba7ce6459"
      },
      "execution_count": null,
      "outputs": [
        {
          "output_type": "stream",
          "name": "stdout",
          "text": [
            "Element-wise multiplication: [ 4 10 18]\n"
          ]
        }
      ]
    },
    {
      "cell_type": "code",
      "source": [
        "# 8. Create a line plot with multiple lines using Matplotlib.\n",
        "\n",
        "import matplotlib.pyplot as plt\n",
        "\n",
        "x = [1, 2, 3, 4, 5]\n",
        "y1 = [2, 4, 6, 8, 10]\n",
        "y2 = [1, 3, 5, 7, 9]\n",
        "\n",
        "plt.plot(x, y1, label=\"Line 1\")\n",
        "plt.plot(x, y2, label=\"Line 2\")\n",
        "plt.legend()\n",
        "plt.title(\"Multiple Line Plot\")\n",
        "plt.show()"
      ],
      "metadata": {
        "id": "vDvPCccYRCe5",
        "colab": {
          "base_uri": "https://localhost:8080/",
          "height": 452
        },
        "outputId": "f590f233-8e7b-414c-937c-b12232348370"
      },
      "execution_count": null,
      "outputs": [
        {
          "output_type": "display_data",
          "data": {
            "text/plain": [
              "<Figure size 640x480 with 1 Axes>"
            ],
            "image/png": "[encoded data removed]"
          },
          "metadata": {}
        }
      ]
    },
    {
      "cell_type": "code",
      "source": [
        "# 9. Generate a Pandas DataFrame and filter rows where a column value is greater than a threshold.\n",
        "\n",
        "df = pd.DataFrame({\"Name\": [\"A\", \"B\", \"C\"], \"Marks\": [80, 50, 90]})\n",
        "filtered = df[df[\"Marks\"] > 70]\n",
        "print(filtered)"
      ],
      "metadata": {
        "id": "DAq5lWUtRCp2",
        "colab": {
          "base_uri": "https://localhost:8080/"
        },
        "outputId": "e839f21d-7fc5-4ca8-e99e-d5dabbe9648d"
      },
      "execution_count": null,
      "outputs": [
        {
          "output_type": "stream",
          "name": "stdout",
          "text": [
            "  Name  Marks\n",
            "0    A     80\n",
            "2    C     90\n"
          ]
        }
      ]
    },
    {
      "cell_type": "code",
      "source": [
        "# 10. Create a histogram using Seaborn to visualize a distribution.\n",
        "\n",
        "sns.histplot(df[\"Marks\"], bins=5, kde=True)"
      ],
      "metadata": {
        "id": "7MqVCbPPRC3K",
        "colab": {
          "base_uri": "https://localhost:8080/",
          "height": 466
        },
        "outputId": "33bc985b-8155-4efb-9a82-eaafc0d2d157"
      },
      "execution_count": null,
      "outputs": [
        {
          "output_type": "execute_result",
          "data": {
            "text/plain": [
              "<Axes: xlabel='Marks', ylabel='Count'>"
            ]
          },
          "metadata": {},
          "execution_count": 19
        },
        {
          "output_type": "display_data",
          "data": {
            "text/plain": [
              "<Figure size 640x480 with 1 Axes>"
            ],
            "image/png": "[encoded data removed]"
          },
          "metadata": {}
        }
      ]
    },
    {
      "cell_type": "code",
      "source": [
        "# 11. Perform matrix multiplication using NumPy.\n",
        "\n",
        "A = np.array([[1, 2], [3, 4]])\n",
        "B = np.array([[5, 6], [7, 8]])\n",
        "result = np.dot(A, B)\n",
        "print(\"Matrix multiplication:\\n\", result)"
      ],
      "metadata": {
        "id": "Z8lf2m49RDEU",
        "colab": {
          "base_uri": "https://localhost:8080/"
        },
        "outputId": "7a6b3f01-c1f4-4f77-d5f4-822653bfb30a"
      },
      "execution_count": null,
      "outputs": [
        {
          "output_type": "stream",
          "name": "stdout",
          "text": [
            "Matrix multiplication:\n",
            " [[19 22]\n",
            " [43 50]]\n"
          ]
        }
      ]
    },
    {
      "cell_type": "code",
      "source": [
        "# 12. Use Pandas to load a CSV file and display its first 5 rows.\n",
        "\n",
        "import pandas as pd\n",
        "\n",
        "df = pd.read_csv(\"data.csv\")\n",
        "\n",
        "print(df.head())"
      ],
      "metadata": {
        "id": "qHWZFjUjRDQT",
        "colab": {
          "base_uri": "https://localhost:8080/"
        },
        "outputId": "717a382a-bab5-4463-c0e8-2a97d097ea68"
      },
      "execution_count": null,
      "outputs": [
        {
          "output_type": "stream",
          "name": "stdout",
          "text": [
            "  Name  Marks\n",
            "0    A     80\n",
            "1    B     90\n",
            "2    C     70\n",
            "3    D     85\n",
            "4    E     95\n"
          ]
        }
      ]
    },
    {
      "cell_type": "code",
      "source": [
        "# 13. Create a 3D scatter plot using Plotly.\n",
        "\n",
        "import plotly.express as px\n",
        "\n",
        "df = pd.DataFrame({\n",
        "    \"x\": [1, 2, 3, 4, 5],\n",
        "    \"y\": [10, 20, 30, 40, 50],\n",
        "    \"z\": [5, 10, 15, 20, 25]\n",
        "})\n",
        "\n",
        "fig = px.scatter_3d(df, x=\"x\", y=\"y\", z=\"z\", title=\"3D Scatter Plot\")\n",
        "fig.show()"
      ],
      "metadata": {
        "id": "y2pAM37iRDcO",
        "colab": {
          "base_uri": "https://localhost:8080/",
          "height": 542
        },
        "outputId": "19d6ae5f-83b3-46a0-debc-fa7a5819adc3"
      },
      "execution_count": null,
      "outputs": [
        {
          "output_type": "display_data",
          "data": {
            "text/html": [
              "<html>\n",
              "<head><meta charset=\"utf-8\" /></head>\n",
              "<body>\n",
              "    <div>            <script src=\"https://cdnjs.cloudflare.com/ajax/libs/mathjax/2.7.5/MathJax.js?config=TeX-AMS-MML_SVG\"></script><script type=\"text/javascript\">if (window.MathJax && window.MathJax.Hub && window.MathJax.Hub.Config) {window.MathJax.Hub.Config({SVG: {font: \"STIX-Web\"}});}</script>                <script type=\"text/javascript\">window.PlotlyConfig = {MathJaxConfig: 'local'};</script>\n",
              "        <script charset=\"utf-8\" src=\"https://cdn.plot.ly/plotly-2.35.2.min.js\"></script>                <div id=\"b46c803e-76c8-46e8-95c9-8fd4e3617ce8\" class=\"plotly-graph-div\" style=\"height:525px; width:100%;\"></div>            <script type=\"text/javascript\">                                    window.PLOTLYENV=window.PLOTLYENV || {};                                    if (document.getElementById(\"b46c803e-76c8-46e8-95c9-8fd4e3617ce8\")) {                    Plotly.newPlot(                        \"b46c803e-76c8-46e8-95c9-8fd4e3617ce8\",                        [{\"hovertemplate\":\"x=%{x}\\u003cbr\\u003ey=%{y}\\u003cbr\\u003ez=%{z}\\u003cextra\\u003e\\u003c\\u002fextra\\u003e\",\"legendgroup\":\"\",\"marker\":{\"color\":\"#636efa\",\"symbol\":\"circle\"},\"mode\":\"markers\",\"name\":\"\",\"scene\":\"scene\",\"showlegend\":false,\"x\":[1,2,3,4,5],\"y\":[10,20,30,40,50],\"z\":[5,10,15,20,25],\"type\":\"scatter3d\"}],                        {\"template\":{\"data\":{\"histogram2dcontour\":[{\"type\":\"histogram2dcontour\",\"colorbar\":{\"outlinewidth\":0,\"ticks\":\"\"},\"colorscale\":[[0.0,\"#0d0887\"],[0.1111111111111111,\"#46039f\"],[0.2222222222222222,\"#7201a8\"],[0.3333333333333333,\"#9c179e\"],[0.4444444444444444,\"#bd3786\"],[0.5555555555555556,\"#d8576b\"],[0.6666666666666666,\"#ed7953\"],[0.7777777777777778,\"#fb9f3a\"],[0.8888888888888888,\"#fdca26\"],[1.0,\"#f0f921\"]]}],\"choropleth\":[{\"type\":\"choropleth\",\"colorbar\":{\"outlinewidth\":0,\"ticks\":\"\"}}],\"histogram2d\":[{\"type\":\"histogram2d\",\"colorbar\":{\"outlinewidth\":0,\"ticks\":\"\"},\"colorscale\":[[0.0,\"#0d0887\"],[0.1111111111111111,\"#46039f\"],[0.2222222222222222,\"#7201a8\"],[0.3333333333333333,\"#9c179e\"],[0.4444444444444444,\"#bd3786\"],[0.5555555555555556,\"#d8576b\"],[0.6666666666666666,\"#ed7953\"],[0.7777777777777778,\"#fb9f3a\"],[0.8888888888888888,\"#fdca26\"],[1.0,\"#f0f921\"]]}],\"heatmap\":[{\"type\":\"heatmap\",\"colorbar\":{\"outlinewidth\":0,\"ticks\":\"\"},\"colorscale\":[[0.0,\"#0d0887\"],[0.1111111111111111,\"#46039f\"],[0.2222222222222222,\"#7201a8\"],[0.3333333333333333,\"#9c179e\"],[0.4444444444444444,\"#bd3786\"],[0.5555555555555556,\"#d8576b\"],[0.6666666666666666,\"#ed7953\"],[0.7777777777777778,\"#fb9f3a\"],[0.8888888888888888,\"#fdca26\"],[1.0,\"#f0f921\"]]}],\"heatmapgl\":[{\"type\":\"heatmapgl\",\"colorbar\":{\"outlinewidth\":0,\"ticks\":\"\"},\"colorscale\":[[0.0,\"#0d0887\"],[0.1111111111111111,\"#46039f\"],[0.2222222222222222,\"#7201a8\"],[0.3333333333333333,\"#9c179e\"],[0.4444444444444444,\"#bd3786\"],[0.5555555555555556,\"#d8576b\"],[0.6666666666666666,\"#ed7953\"],[0.7777777777777778,\"#fb9f3a\"],[0.8888888888888888,\"#fdca26\"],[1.0,\"#f0f921\"]]}],\"contourcarpet\":[{\"type\":\"contourcarpet\",\"colorbar\":{\"outlinewidth\":0,\"ticks\":\"\"}}],\"contour\":[{\"type\":\"contour\",\"colorbar\":{\"outlinewidth\":0,\"ticks\":\"\"},\"colorscale\":[[0.0,\"#0d0887\"],[0.1111111111111111,\"#46039f\"],[0.2222222222222222,\"#7201a8\"],[0.3333333333333333,\"#9c179e\"],[0.4444444444444444,\"#bd3786\"],[0.5555555555555556,\"#d8576b\"],[0.6666666666666666,\"#ed7953\"],[0.7777777777777778,\"#fb9f3a\"],[0.8888888888888888,\"#fdca26\"],[1.0,\"#f0f921\"]]}],\"surface\":[{\"type\":\"surface\",\"colorbar\":{\"outlinewidth\":0,\"ticks\":\"\"},\"colorscale\":[[0.0,\"#0d0887\"],[0.1111111111111111,\"#46039f\"],[0.2222222222222222,\"#7201a8\"],[0.3333333333333333,\"#9c179e\"],[0.4444444444444444,\"#bd3786\"],[0.5555555555555556,\"#d8576b\"],[0.6666666666666666,\"#ed7953\"],[0.7777777777777778,\"#fb9f3a\"],[0.8888888888888888,\"#fdca26\"],[1.0,\"#f0f921\"]]}],\"mesh3d\":[{\"type\":\"mesh3d\",\"colorbar\":{\"outlinewidth\":0,\"ticks\":\"\"}}],\"scatter\":[{\"fillpattern\":{\"fillmode\":\"overlay\",\"size\":10,\"solidity\":0.2},\"type\":\"scatter\"}],\"parcoords\":[{\"type\":\"parcoords\",\"line\":{\"colorbar\":{\"outlinewidth\":0,\"ticks\":\"\"}}}],\"scatterpolargl\":[{\"type\":\"scatterpolargl\",\"marker\":{\"colorbar\":{\"outlinewidth\":0,\"ticks\":\"\"}}}],\"bar\":[{\"error_x\":{\"color\":\"#2a3f5f\"},\"error_y\":{\"color\":\"#2a3f5f\"},\"marker\":{\"line\":{\"color\":\"#E5ECF6\",\"width\":0.5},\"pattern\":{\"fillmode\":\"overlay\",\"size\":10,\"solidity\":0.2}},\"type\":\"bar\"}],\"scattergeo\":[{\"type\":\"scattergeo\",\"marker\":{\"colorbar\":{\"outlinewidth\":0,\"ticks\":\"\"}}}],\"scatterpolar\":[{\"type\":\"scatterpolar\",\"marker\":{\"colorbar\":{\"outlinewidth\":0,\"ticks\":\"\"}}}],\"histogram\":[{\"marker\":{\"pattern\":{\"fillmode\":\"overlay\",\"size\":10,\"solidity\":0.2}},\"type\":\"histogram\"}],\"scattergl\":[{\"type\":\"scattergl\",\"marker\":{\"colorbar\":{\"outlinewidth\":0,\"ticks\":\"\"}}}],\"scatter3d\":[{\"type\":\"scatter3d\",\"line\":{\"colorbar\":{\"outlinewidth\":0,\"ticks\":\"\"}},\"marker\":{\"colorbar\":{\"outlinewidth\":0,\"ticks\":\"\"}}}],\"scattermapbox\":[{\"type\":\"scattermapbox\",\"marker\":{\"colorbar\":{\"outlinewidth\":0,\"ticks\":\"\"}}}],\"scatterternary\":[{\"type\":\"scatterternary\",\"marker\":{\"colorbar\":{\"outlinewidth\":0,\"ticks\":\"\"}}}],\"scattercarpet\":[{\"type\":\"scattercarpet\",\"marker\":{\"colorbar\":{\"outlinewidth\":0,\"ticks\":\"\"}}}],\"carpet\":[{\"aaxis\":{\"endlinecolor\":\"#2a3f5f\",\"gridcolor\":\"white\",\"linecolor\":\"white\",\"minorgridcolor\":\"white\",\"startlinecolor\":\"#2a3f5f\"},\"baxis\":{\"endlinecolor\":\"#2a3f5f\",\"gridcolor\":\"white\",\"linecolor\":\"white\",\"minorgridcolor\":\"white\",\"startlinecolor\":\"#2a3f5f\"},\"type\":\"carpet\"}],\"table\":[{\"cells\":{\"fill\":{\"color\":\"#EBF0F8\"},\"line\":{\"color\":\"white\"}},\"header\":{\"fill\":{\"color\":\"#C8D4E3\"},\"line\":{\"color\":\"white\"}},\"type\":\"table\"}],\"barpolar\":[{\"marker\":{\"line\":{\"color\":\"#E5ECF6\",\"width\":0.5},\"pattern\":{\"fillmode\":\"overlay\",\"size\":10,\"solidity\":0.2}},\"type\":\"barpolar\"}],\"pie\":[{\"automargin\":true,\"type\":\"pie\"}]},\"layout\":{\"autotypenumbers\":\"strict\",\"colorway\":[\"#636efa\",\"#EF553B\",\"#00cc96\",\"#ab63fa\",\"#FFA15A\",\"#19d3f3\",\"#FF6692\",\"#B6E880\",\"#FF97FF\",\"#FECB52\"],\"font\":{\"color\":\"#2a3f5f\"},\"hovermode\":\"closest\",\"hoverlabel\":{\"align\":\"left\"},\"paper_bgcolor\":\"white\",\"plot_bgcolor\":\"#E5ECF6\",\"polar\":{\"bgcolor\":\"#E5ECF6\",\"angularaxis\":{\"gridcolor\":\"white\",\"linecolor\":\"white\",\"ticks\":\"\"},\"radialaxis\":{\"gridcolor\":\"white\",\"linecolor\":\"white\",\"ticks\":\"\"}},\"ternary\":{\"bgcolor\":\"#E5ECF6\",\"aaxis\":{\"gridcolor\":\"white\",\"linecolor\":\"white\",\"ticks\":\"\"},\"baxis\":{\"gridcolor\":\"white\",\"linecolor\":\"white\",\"ticks\":\"\"},\"caxis\":{\"gridcolor\":\"white\",\"linecolor\":\"white\",\"ticks\":\"\"}},\"coloraxis\":{\"colorbar\":{\"outlinewidth\":0,\"ticks\":\"\"}},\"colorscale\":{\"sequential\":[[0.0,\"#0d0887\"],[0.1111111111111111,\"#46039f\"],[0.2222222222222222,\"#7201a8\"],[0.3333333333333333,\"#9c179e\"],[0.4444444444444444,\"#bd3786\"],[0.5555555555555556,\"#d8576b\"],[0.6666666666666666,\"#ed7953\"],[0.7777777777777778,\"#fb9f3a\"],[0.8888888888888888,\"#fdca26\"],[1.0,\"#f0f921\"]],\"sequentialminus\":[[0.0,\"#0d0887\"],[0.1111111111111111,\"#46039f\"],[0.2222222222222222,\"#7201a8\"],[0.3333333333333333,\"#9c179e\"],[0.4444444444444444,\"#bd3786\"],[0.5555555555555556,\"#d8576b\"],[0.6666666666666666,\"#ed7953\"],[0.7777777777777778,\"#fb9f3a\"],[0.8888888888888888,\"#fdca26\"],[1.0,\"#f0f921\"]],\"diverging\":[[0,\"#8e0152\"],[0.1,\"#c51b7d\"],[0.2,\"#de77ae\"],[0.3,\"#f1b6da\"],[0.4,\"#fde0ef\"],[0.5,\"#f7f7f7\"],[0.6,\"#e6f5d0\"],[0.7,\"#b8e186\"],[0.8,\"#7fbc41\"],[0.9,\"#4d9221\"],[1,\"#276419\"]]},\"xaxis\":{\"gridcolor\":\"white\",\"linecolor\":\"white\",\"ticks\":\"\",\"title\":{\"standoff\":15},\"zerolinecolor\":\"white\",\"automargin\":true,\"zerolinewidth\":2},\"yaxis\":{\"gridcolor\":\"white\",\"linecolor\":\"white\",\"ticks\":\"\",\"title\":{\"standoff\":15},\"zerolinecolor\":\"white\",\"automargin\":true,\"zerolinewidth\":2},\"scene\":{\"xaxis\":{\"backgroundcolor\":\"#E5ECF6\",\"gridcolor\":\"white\",\"linecolor\":\"white\",\"showbackground\":true,\"ticks\":\"\",\"zerolinecolor\":\"white\",\"gridwidth\":2},\"yaxis\":{\"backgroundcolor\":\"#E5ECF6\",\"gridcolor\":\"white\",\"linecolor\":\"white\",\"showbackground\":true,\"ticks\":\"\",\"zerolinecolor\":\"white\",\"gridwidth\":2},\"zaxis\":{\"backgroundcolor\":\"#E5ECF6\",\"gridcolor\":\"white\",\"linecolor\":\"white\",\"showbackground\":true,\"ticks\":\"\",\"zerolinecolor\":\"white\",\"gridwidth\":2}},\"shapedefaults\":{\"line\":{\"color\":\"#2a3f5f\"}},\"annotationdefaults\":{\"arrowcolor\":\"#2a3f5f\",\"arrowhead\":0,\"arrowwidth\":1},\"geo\":{\"bgcolor\":\"white\",\"landcolor\":\"#E5ECF6\",\"subunitcolor\":\"white\",\"showland\":true,\"showlakes\":true,\"lakecolor\":\"white\"},\"title\":{\"x\":0.05},\"mapbox\":{\"style\":\"light\"}}},\"scene\":{\"domain\":{\"x\":[0.0,1.0],\"y\":[0.0,1.0]},\"xaxis\":{\"title\":{\"text\":\"x\"}},\"yaxis\":{\"title\":{\"text\":\"y\"}},\"zaxis\":{\"title\":{\"text\":\"z\"}}},\"legend\":{\"tracegroupgap\":0},\"title\":{\"text\":\"3D Scatter Plot\"}},                        {\"responsive\": true}                    ).then(function(){\n",
              "                            \n",
              "var gd = document.getElementById('b46c803e-76c8-46e8-95c9-8fd4e3617ce8');\n",
              "var x = new MutationObserver(function (mutations, observer) {{\n",
              "        var display = window.getComputedStyle(gd).display;\n",
              "        if (!display || display === 'none') {{\n",
              "            console.log([gd, 'removed!']);\n",
              "            Plotly.purge(gd);\n",
              "            observer.disconnect();\n",
              "        }}\n",
              "}});\n",
              "\n",
              "// Listen for the removal of the full notebook cells\n",
              "var notebookContainer = gd.closest('#notebook-container');\n",
              "if (notebookContainer) {{\n",
              "    x.observe(notebookContainer, {childList: true});\n",
              "}}\n",
              "\n",
              "// Listen for the clearing of the current output cell\n",
              "var outputEl = gd.closest('.output');\n",
              "if (outputEl) {{\n",
              "    x.observe(outputEl, {childList: true});\n",
              "}}\n",
              "\n",
              "                        })                };                            </script>        </div>\n",
              "</body>\n",
              "</html>"
            ]
          },
          "metadata": {}
        }
      ]
    }
  ]
}